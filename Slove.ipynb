{
 "cells": [
  {
   "cell_type": "code",
   "execution_count": 1,
   "id": "f85989d3",
   "metadata": {},
   "outputs": [],
   "source": [
    "from scipy import integrate\n",
    "import matplotlib.pyplot as plt\n",
    "import numpy as np\n",
    "import torch\n",
    "from pygad import torchga\n",
    "import pygad\n",
    "import os\n",
    "os.environ[\"KMP_DUPLICATE_LIB_OK\"]=\"TRUE\""
   ]
  },
  {
   "cell_type": "code",
   "execution_count": 2,
   "id": "849ed7e7",
   "metadata": {},
   "outputs": [],
   "source": [
    "import os\n",
    "import glob\n",
    "\n",
    "files = glob.glob(r'C:\\Files\\ProjMan\\trajectory\\*')\n",
    "#for f in files:\n",
    "#    os.remove(f)\n",
    "files = glob.glob(r'C:\\Files\\ProjMan\\upr\\*')\n",
    "#for f in files:\n",
    "#    os.remove(f)\n",
    "files = glob.glob(r'C:\\Files\\ProjMan\\models\\*')\n",
    "#for f in files:\n",
    "#    os.remove(f)"
   ]
  },
  {
   "cell_type": "code",
   "execution_count": 3,
   "id": "f6d3c5a5",
   "metadata": {},
   "outputs": [],
   "source": [
    "#Система дифференциальных уравнений\n",
    "def dydt(t, y, p):\n",
    "    d=np.zeros(len(y))                                        #массив значений производных\n",
    "    d[0]=y[1]                                                 #dx\n",
    "    d[1]=-y[0]*p[0]/((y[0]**2+y[2]**2)**1.5)+y[5]*np.sin(y[4])#dvx\n",
    "    d[2]=y[3]                                                 #dy\n",
    "    d[3]=-y[2]*p[0]/((y[0]**2+y[2]**2)**1.5)+y[5]*np.cos(y[4])#dvy\n",
    "    d[4]=y[6]                                                 #dfi\n",
    "    return d\n",
    "\n",
    "#def event_h_eq_0(t, y):\n",
    "#        return y[1]"
   ]
  },
  {
   "cell_type": "code",
   "execution_count": 4,
   "id": "c642dac7",
   "metadata": {
    "scrolled": true
   },
   "outputs": [
    {
     "data": {
      "text/plain": [
       "[<matplotlib.lines.Line2D at 0x2a82ab28b70>]"
      ]
     },
     "execution_count": 4,
     "metadata": {},
     "output_type": "execute_result"
    },
    {
     "data": {
      "image/png": "[encoded data removed]",
      "text/plain": [
       "<Figure size 432x432 with 1 Axes>"
      ]
     },
     "metadata": {
      "needs_background": "light"
     },
     "output_type": "display_data"
    }
   ],
   "source": [
    "#тест системы\n",
    "tk=8.0\n",
    "nc=[0.,1,-1.,0.,0.]\n",
    "params=[1]\n",
    "sol=integrate.solve_ivp(lambda t, y: dydt(t, y, params), [0., tk],\n",
    "                            np.append(nc, [0.,0.]),\n",
    "                            method='BDF', rtol=1e-10)\n",
    "fig, ax = plt.subplots(figsize=(6, 6))\n",
    "ax.plot(sol.y[0],sol.y[2])#sol.t,(sol.y[1]**2+sol.y[3]**2)**0.5"
   ]
  },
  {
   "cell_type": "code",
   "execution_count": 5,
   "id": "936aaf9a",
   "metadata": {},
   "outputs": [
    {
     "name": "stdout",
     "output_type": "stream",
     "text": [
      "[       0.             7848.32649122 -6471000.                0.\n",
      "        0.        ]\n"
     ]
    }
   ],
   "source": [
    "params=[5.972*6.6743*1e13] #Указываем начальные параметры\n",
    "R=6371000.0+100000.0\n",
    "tnm=10.0\n",
    "tkm=50.0\n",
    "dv=+20\n",
    "tm=30.0\n",
    "tn=0\n",
    "tk=100.0\n",
    "dt=0.1\n",
    "pock=0\n",
    "fi=0\n",
    "ncp=np.array([0.,np.sqrt(params[0]/R),-R,0.,0.])\n",
    "print(ncp)"
   ]
  },
  {
   "cell_type": "code",
   "execution_count": 6,
   "id": "2bd2baf1",
   "metadata": {},
   "outputs": [],
   "source": [
    "#расчитываем маневр при помощи мгновенного приращения импульса\n",
    "tr=0.0\n",
    "nc=ncp.copy()\n",
    "idl=[nc]\n",
    "while tr<tk:\n",
    "    sol=integrate.solve_ivp(lambda t, y: dydt(t, y, params), [0., dt],\n",
    "                            np.append(nc, [0.,0.]),\n",
    "                            method='RK45', rtol=1e-2)\n",
    "    nc=np.array([sol.y[:-2][i][-1] for i in range(len(sol.y[:-2]))])\n",
    "    tr+=dt\n",
    "    if abs(tr-tm)<dt/10:\n",
    "        nc+=np.array([0,dv*sol.y[2][-1]/((sol.y[0][-1]**2+sol.y[2][-1]**2)**0.5),\n",
    "                      0,dv*sol.y[0][-1]/((sol.y[0][-1]**2+sol.y[2][-1]**2)**0.5),0])\n",
    "        fi=np.arctan2(sol.y[2][-1],sol.y[0][-1])\n",
    "    idl=np.append(idl,[nc],axis=0)\n",
    "nrm=np.array([R,np.sqrt(params[0]/R),R,np.sqrt(params[0]/R),fi])"
   ]
  },
  {
   "cell_type": "code",
   "execution_count": 7,
   "id": "d9716d82",
   "metadata": {},
   "outputs": [
    {
     "data": {
      "text/plain": [
       "(-1.534410946677995,\n",
       " array([       0.        ,     7848.32649122, -6471000.        ,\n",
       "               0.        ,        0.        ]))"
      ]
     },
     "execution_count": 7,
     "metadata": {},
     "output_type": "execute_result"
    }
   ],
   "source": [
    "fi, idl[0]"
   ]
  },
  {
   "cell_type": "code",
   "execution_count": 8,
   "id": "d19ac75b",
   "metadata": {},
   "outputs": [],
   "source": [
    "tr=0.0\n",
    "ncp[-1]=fi\n",
    "nc=ncp.copy()\n",
    "ni=[nc]\n",
    "while tr<tk:\n",
    "    sol=integrate.solve_ivp(lambda t, y: dydt(t, y, params), [0., dt],\n",
    "                            np.append(nc, [(1. if abs(tr-tm)<abs(dv/2) else 0.),0.]),\n",
    "                            method='RK45', rtol=1e-2)\n",
    "    nc=np.array([sol.y[:-2][i][-1] for i in range(len(sol.y[:-2]))])\n",
    "    tr+=dt\n",
    "    ni=np.append(ni,[nc],axis=0)"
   ]
  },
  {
   "cell_type": "code",
   "execution_count": 9,
   "id": "04a04d9b",
   "metadata": {},
   "outputs": [
    {
     "data": {
      "text/plain": [
       "[<matplotlib.lines.Line2D at 0x2a82bc75908>]"
      ]
     },
     "execution_count": 9,
     "metadata": {},
     "output_type": "execute_result"
    },
    {
     "data": {
      "image/png": "[encoded data removed]",
      "text/plain": [
       "<Figure size 432x432 with 1 Axes>"
      ]
     },
     "metadata": {
      "needs_background": "light"
     },
     "output_type": "display_data"
    }
   ],
   "source": [
    "fig, ax = plt.subplots(figsize=(6, 6))\n",
    "an=np.rot90(idl,3)\n",
    "ax.plot(an[0],an[2])"
   ]
  },
  {
   "cell_type": "code",
   "execution_count": 10,
   "id": "341e5c69",
   "metadata": {},
   "outputs": [
    {
     "data": {
      "text/plain": [
       "array([[ 0.00000000e+00,  0.00000000e+00,  0.00000000e+00, ...,\n",
       "         0.00000000e+00,  0.00000000e+00,  0.00000000e+00],\n",
       "       [ 0.00000000e+00,  9.51881140e-01,  1.90376227e+00, ...,\n",
       "         9.49356865e+02,  9.50301849e+02,  9.51246820e+02],\n",
       "       [-6.47100000e+06, -6.47099995e+06, -6.47099981e+06, ...,\n",
       "        -6.42350779e+06, -6.42341281e+06, -6.42331773e+06],\n",
       "       [ 7.84832649e+03,  7.84832643e+03,  7.84832626e+03, ...,\n",
       "         7.77087042e+03,  7.77075551e+03,  7.77064048e+03],\n",
       "       [ 0.00000000e+00,  7.84832647e+02,  1.56966528e+03, ...,\n",
       "         7.80735400e+05,  7.81512481e+05,  7.82289551e+05]])"
      ]
     },
     "execution_count": 10,
     "metadata": {},
     "output_type": "execute_result"
    }
   ],
   "source": [
    "np.rot90(idl)"
   ]
  },
  {
   "cell_type": "code",
   "execution_count": 11,
   "id": "e23d0c3c",
   "metadata": {},
   "outputs": [
    {
     "name": "stdout",
     "output_type": "stream",
     "text": [
      "24.487500070115434\n",
      "[0.034035080461762846, 0.00048429585876874626, 0.006228607147932053, 8.917823186038731e-05]\n"
     ]
    },
    {
     "data": {
      "image/png": "[encoded data removed]",
      "text/plain": [
       "<Figure size 576x576 with 1 Axes>"
      ]
     },
     "metadata": {
      "needs_background": "light"
     },
     "output_type": "display_data"
    }
   ],
   "source": [
    "fig2, ax2 = plt.subplots(figsize=(8, 8))\n",
    "ax2.set_xlabel('Время, с',fontsize=14)\n",
    "ax2.set_ylabel('Расстояние до нужной траектории, м',fontsize=14)\n",
    "ax2.set_title('График расстояния до нужной траектории')\n",
    "an2=np.rot90(ni,3)\n",
    "ax2.plot(np.linspace(tk,tn,len(an2[0])),((an[1]-an2[1])**2+(an[3]-an2[3])**2)**0.5)\n",
    "print(1/sum([abs(an[i][0]-an2[i][0]) for i in range(4)]))\n",
    "print([abs(an[i][0]-an2[i][0]) for i in range(4)])\n",
    "#ax2.plot(an2[0],an2[2])"
   ]
  },
  {
   "cell_type": "code",
   "execution_count": 12,
   "id": "d6a88e78",
   "metadata": {},
   "outputs": [],
   "source": [
    "model = torch.nn.Sequential(torch.nn.Linear(6, 10),\n",
    "                            torch.nn.Linear(10, 100),\n",
    "                            torch.nn.Linear(100, 100),\n",
    "                            torch.nn.Sigmoid(),\n",
    "                            torch.nn.Linear(100, 100),\n",
    "                            torch.nn.Sigmoid(),\n",
    "                            torch.nn.Linear(100, 10),\n",
    "#                            torch.nn.Sigmoid(),\n",
    "#                            torch.nn.Linear(100, 100),\n",
    "#                            torch.nn.Linear(100, 100),\n",
    "#                            torch.nn.Linear(100, 100),\n",
    "#                            torch.nn.Linear(100, 100),\n",
    "#                            torch.nn.Linear(100, 100),\n",
    "#                            torch.nn.Linear(100, 100),\n",
    "#                            torch.nn.Sigmoid(),\n",
    "                            torch.nn.Linear(10, 2),\n",
    "                            torch.nn.Hardtanh(0,2))"
   ]
  },
  {
   "cell_type": "code",
   "execution_count": 13,
   "id": "547cff73",
   "metadata": {},
   "outputs": [
    {
     "data": {
      "text/plain": [
       "tensor([0.0000, 0.0072], grad_fn=<HardtanhBackward0>)"
      ]
     },
     "execution_count": 13,
     "metadata": {},
     "output_type": "execute_result"
    }
   ],
   "source": [
    "model(torch.tensor([0.,1.,0.,1.,-1,0],dtype=torch.float32))"
   ]
  },
  {
   "cell_type": "code",
   "execution_count": 14,
   "id": "cfa53a39",
   "metadata": {},
   "outputs": [],
   "source": [
    "def svresults(ga_instance):\n",
    "    global torch_ga, model, idl, dt,tk,tm,nc,tnm,tkm,pock,fi,params,nrm,dv\n",
    "    solution, solution_fitness, solution_idx = ga_instance.best_solution()\n",
    "    best_solution_weights = torchga.model_weights_as_dict(model=model,\n",
    "                                                      weights_vector=solution)\n",
    "    model.load_state_dict(best_solution_weights)\n",
    "    #выводим промежуточные результаты\n",
    "    nc=ncp.copy()\n",
    "    ans2=[nc]\n",
    "    tr=0\n",
    "    ans=np.array([[],[],[],[],[],[],[],[]])\n",
    "    try:\n",
    "        while tr<tk:\n",
    "            md=model(torch.tensor(np.append((nc-idl[round(tr/dt)])/nrm,[(tr-tm)/abs(dv/2)]),\n",
    "                                  dtype=torch.float32)).detach().numpy()\n",
    "            sol=integrate.solve_ivp(lambda t, y: dydt(t, y, params), [0., dt],\n",
    "                            np.append(nc, [(round(md[0]/2) if tkm>=tr>=tnm else 0),\n",
    "                                                                  (round(md[1])-1 if tkm>=tr>=tnm else 0)*0]),\n",
    "                             method='RK45', rtol=1e-2)\n",
    "            nc=[sol.y[0][-1],sol.y[1][-1],sol.y[2][-1],sol.y[3][-1],sol.y[4][-1]%(2*np.pi)]\n",
    "            ans2=np.append(ans2,[np.array([sol.y[:-2][i][-1] for i in range(len(sol.y[:-2]))])],axis=0)\n",
    "            ans=np.array([np.append(ans[0],sol.t+tr),np.append(ans[1],sol.y[0]),np.append(ans[2],sol.y[1]),\n",
    "                np.append(ans[3],sol.y[2]),\n",
    "                np.append(ans[4],sol.y[3]),np.append(ans[5],sol.y[4]),np.append(ans[6],sol.y[5]),np.append(ans[7],sol.y[6])])\n",
    "            tr+=dt\n",
    "    except:\n",
    "            print('bad p')\n",
    "            return\n",
    "    fig, ax = plt.subplots(figsize=(8, 8))\n",
    "    fig3, ax3 = plt.subplots(figsize=(8, 8))\n",
    "    \n",
    "    ax.set_xlabel('Ось x, м',fontsize=14)\n",
    "    ax.set_ylabel('ось y, м',fontsize=14)\n",
    "    ax.set_title('Трактория полета')\n",
    "    ax.set_ylim([np.min([np.min(ans[1]),np.min(ans[3])]),np.max([np.max(ans[1]),np.max(ans[3])])])\n",
    "    ax.set_xlim([np.min([np.min(ans[1]),np.min(ans[3])]),np.max([np.max(ans[1]),np.max(ans[3])])])\n",
    "    ax.plot(ans[1], ans[3])\n",
    "    \n",
    "    ax3.set_xlabel('Время, с',fontsize=14)\n",
    "    ax3.set_ylabel('Расстояние до нужной траектории, м',fontsize=14)\n",
    "    ax3.set_title('График расстояния до нужной траектории')\n",
    "    ax3.plot(np.linspace(tn,tk,len(ans2)),\n",
    "             ((np.rot90(idl)[-1]-np.rot90(ans2)[-1])**2+(np.rot90(idl)[-3]-np.rot90(ans2)[-3])**2)**0.5)\n",
    "    \n",
    "    fig1, ax1 = plt.subplots(figsize=(8, 6))\n",
    "    fig2, ax2 = plt.subplots(figsize=(8, 6))\n",
    "    ax1.set_ylim([-0.1, 1.1])\n",
    "    ax2.set_ylim([-1.1, 1.1])\n",
    "    \n",
    "    ax1.set_xlabel('Время, с',fontsize=14)\n",
    "    ax1.set_ylabel('Включение двигателя',fontsize=14)\n",
    "    ax1.set_title('График включения двигателя')\n",
    "    ax1.plot(ans[0],ans[6])\n",
    "    \n",
    "    ax2.set_xlabel('Время, с',fontsize=14)\n",
    "    ax2.set_ylabel('Угловая скорость аппарата, рад/с',fontsize=14)\n",
    "    ax2.set_title('График угловой скорости аппарата')\n",
    "    ax2.plot(ans[0],ans[7])\n",
    "    fig.savefig(r\"C:\\Files\\ProjMan\\trajectory\\{generation}t.png\".format(generation=ga_instance.generations_completed+pock*10))\n",
    "    fig3.savefig(r\"C:\\Files\\ProjMan\\trajectory\\{generation}dt.png\".format(generation=ga_instance.generations_completed+pock*10))\n",
    "    fig1.savefig(r\"C:\\Files\\ProjMan\\upr\\{generation}d.png\".format(generation=ga_instance.generations_completed+pock*10))\n",
    "    fig2.savefig(r\"C:\\Files\\ProjMan\\upr\\{generation}r.png\".format(generation=ga_instance.generations_completed+pock*10))\n",
    "    plt.close(fig)\n",
    "    plt.close(fig1)\n",
    "    plt.close(fig2)\n",
    "    plt.close(fig3)"
   ]
  },
  {
   "cell_type": "code",
   "execution_count": 15,
   "id": "347db074",
   "metadata": {},
   "outputs": [],
   "source": [
    "def fitness_func(solution, sol_idx):\n",
    "    global torch_ga, model, idl, dt,tk,tm,nc,tnm,tkm,fi,params,dv,nrm\n",
    "\n",
    "    model_weights_dict = torchga.model_weights_as_dict(model=model,\n",
    "                                                       weights_vector=solution)\n",
    "    model.load_state_dict(model_weights_dict)\n",
    "    nc=ncp.copy()\n",
    "    tr=tnm\n",
    "    ans=[]\n",
    "    try:\n",
    "        #считаем до точки начала маневра\n",
    "        sol=integrate.solve_ivp(lambda t, y: dydt(t, y, params), [0., tnm],np.append(nc,[0,0]),method='RK45', rtol=1e-2)\n",
    "        nc=[sol.y[0][-1],sol.y[1][-1],sol.y[2][-1],sol.y[3][-1],(sol.y[4][-1])%(2*np.pi)]\n",
    "        while tr<tkm:                                                                     #считаем сам менвр\n",
    "            md=model(torch.tensor(np.append((nc-idl[round(tr/dt)])/nrm,[(tr-tm)/abs(dv/2)]), \n",
    "                                  dtype=torch.float32)).detach().numpy()\n",
    "            sol=integrate.solve_ivp(lambda t, y: dydt(t, y, params), [0., dt],\n",
    "                                np.append(nc,[round(md[0]/2),(round(md[1])-1)*0]), method='RK45', rtol=1e-2)\n",
    "            nc=[sol.y[0][-1],sol.y[1][-1],sol.y[2][-1],sol.y[3][-1],(sol.y[4][-1])%(2*np.pi)]\n",
    "            tr+=dt\n",
    "        #считаем после окончания маневра\n",
    "        sol=integrate.solve_ivp(lambda t, y: dydt(t, y, params), [0., tk-tkm],np.append(nc,[0,0]),method='RK45', rtol=1e-2)\n",
    "        ans=np.array([sol.y[0][-1],sol.y[1][-1],sol.y[2][-1],sol.y[3][-1],0])\n",
    "    except:\n",
    "        print('bad sol:',sol_idx)\n",
    "        return -1\n",
    "    #оценка решения, то есть схожести орбит\n",
    "    abs_error = np.sum(np.abs(ans-idl[-1]))\n",
    "    solution_fitness = 1.0 / abs_error\n",
    "    try:\n",
    "        pass\n",
    "        #if ((sol_idx+1)%25==0):\n",
    "        #    print(sol_idx,solution_fitness,abs_error)\n",
    "    except:\n",
    "        pass\n",
    "    return solution_fitness\n",
    "\n",
    "def callback_generation(ga_instance):\n",
    "    print(\"Generation = {generation}\".format(generation=ga_instance.generations_completed))\n",
    "    print(\"Fitness    = {fitness}\".format(fitness=ga_instance.best_solution()[1]))\n",
    "    svresults(ga_instance)"
   ]
  },
  {
   "cell_type": "code",
   "execution_count": 16,
   "id": "f2c883a2",
   "metadata": {
    "scrolled": true
   },
   "outputs": [],
   "source": [
    "num_generations = 10 # Количество поколений\n",
    "num_parents_mating = 25 # Количество родителей в каждом поколении\n",
    "parent_selection_type = \"sss\" # Способ выюора родителя\n",
    "crossover_type = \"scattered\" # Способ скрещивания\n",
    "mutation_type = \"adaptive\" # Способ мутации\n",
    "mutation_probability = [1.0,0.4] # Вероятность мутации\n",
    "mutation_percent_genes = [100,100]\n",
    "keep_parents = -1 # Количество родителей, которые остануться в следующем поколении (-1 -все, кого не заменят потомки)"
   ]
  },
  {
   "cell_type": "code",
   "execution_count": null,
   "id": "3cc292ef",
   "metadata": {
    "scrolled": true
   },
   "outputs": [
    {
     "name": "stdout",
     "output_type": "stream",
     "text": [
      "start 0\n",
      "Generation = 1\n",
      "Fitness    = 0.006122435327184939\n",
      "Generation = 2\n",
      "Fitness    = 0.007248844092431797\n",
      "Generation = 3\n",
      "Fitness    = 0.007248844092431797\n",
      "Generation = 4\n",
      "Fitness    = 0.007248844092431797\n",
      "Generation = 5\n",
      "Fitness    = 0.007248844092431797\n",
      "Generation = 6\n",
      "Fitness    = 0.007248844092431797\n",
      "Generation = 7\n",
      "Fitness    = 0.007248844092431797\n",
      "Generation = 8\n",
      "Fitness    = 0.007248844092431797\n",
      "Generation = 9\n",
      "Fitness    = 0.007248844092431797\n",
      "Generation = 10\n",
      "Fitness    = 0.007248844092431797\n",
      "start 1\n",
      "Generation = 1\n",
      "Fitness    = 0.007389195422619606\n",
      "Generation = 2\n",
      "Fitness    = 0.007389195422619606\n",
      "Generation = 3\n",
      "Fitness    = 0.007389195422619606\n",
      "Generation = 4\n",
      "Fitness    = 0.007389195422619606\n",
      "Generation = 5\n",
      "Fitness    = 0.007389195422619606\n",
      "Generation = 6\n",
      "Fitness    = 0.007389195422619606\n",
      "Generation = 7\n",
      "Fitness    = 0.007389195422619606\n",
      "Generation = 8\n",
      "Fitness    = 0.007389195422619606\n",
      "Generation = 9\n",
      "Fitness    = 0.007389195422619606\n",
      "Generation = 10\n",
      "Fitness    = 0.007389195422619606\n",
      "start 2\n",
      "Generation = 1\n",
      "Fitness    = 0.007389195422619606\n",
      "Generation = 2\n",
      "Fitness    = 0.007389195422619606\n",
      "Generation = 3\n",
      "Fitness    = 0.007389195422619606\n",
      "Generation = 4\n",
      "Fitness    = 0.007389195422619606\n",
      "Generation = 5\n",
      "Fitness    = 0.007389195422619606\n",
      "Generation = 6\n",
      "Fitness    = 0.007438604270352002\n",
      "Generation = 7\n",
      "Fitness    = 0.007438604270352002\n",
      "Generation = 8\n",
      "Fitness    = 0.007438604270352002\n",
      "Generation = 9\n",
      "Fitness    = 0.007438604270352002\n",
      "Generation = 10\n",
      "Fitness    = 0.007438604270352002\n",
      "start 3\n",
      "Generation = 1\n",
      "Fitness    = 0.007438604270352002\n",
      "Generation = 2\n",
      "Fitness    = 0.007438604270352002\n",
      "Generation = 3\n",
      "Fitness    = 0.007438604270352002\n",
      "Generation = 4\n",
      "Fitness    = 0.007438604270352002\n",
      "Generation = 5\n",
      "Fitness    = 0.007438604270352002\n",
      "Generation = 6\n",
      "Fitness    = 0.007438604270352002\n",
      "Generation = 7\n",
      "Fitness    = 0.007438604270352002\n",
      "Generation = 8\n",
      "Fitness    = 0.007438604270352002\n",
      "Generation = 9\n",
      "Fitness    = 0.007438604270352002\n",
      "Generation = 10\n",
      "Fitness    = 0.007438604270352002\n",
      "start 4\n",
      "Generation = 1\n",
      "Fitness    = 0.007438604270352002\n",
      "Generation = 2\n",
      "Fitness    = 0.007438604270352002\n",
      "Generation = 3\n",
      "Fitness    = 0.007438604270352002\n",
      "Generation = 4\n",
      "Fitness    = 0.007438604270352002\n",
      "Generation = 5\n",
      "Fitness    = 0.007438604270352002\n",
      "Generation = 6\n",
      "Fitness    = 0.007438604270352002\n",
      "Generation = 7\n",
      "Fitness    = 0.007438604270352002\n",
      "Generation = 8\n",
      "Fitness    = 0.007438604270352002\n",
      "Generation = 9\n",
      "Fitness    = 0.007438604270352002\n",
      "Generation = 10\n",
      "Fitness    = 0.007438604270352002\n",
      "start 5\n",
      "Generation = 1\n",
      "Fitness    = 0.007438604270352002\n",
      "Generation = 2\n",
      "Fitness    = 0.007438604270352002\n",
      "Generation = 3\n",
      "Fitness    = 0.007438604270352002\n",
      "Generation = 4\n",
      "Fitness    = 0.007438604270352002\n",
      "Generation = 5\n",
      "Fitness    = 0.007438604270352002\n",
      "Generation = 6\n",
      "Fitness    = 0.007438604270352002\n",
      "Generation = 7\n",
      "Fitness    = 0.007438604270352002\n",
      "Generation = 8\n",
      "Fitness    = 0.007438604270352002\n",
      "Generation = 9\n",
      "Fitness    = 0.007438604270352002\n",
      "Generation = 10\n",
      "Fitness    = 0.007438604270352002\n",
      "start 6\n",
      "Generation = 1\n",
      "Fitness    = 0.007438604270352002\n",
      "Generation = 2\n",
      "Fitness    = 0.007438604270352002\n",
      "Generation = 3\n",
      "Fitness    = 0.007438604270352002\n",
      "Generation = 4\n",
      "Fitness    = 0.007438604270352002\n",
      "Generation = 5\n",
      "Fitness    = 0.007438604270352002\n",
      "Generation = 6\n",
      "Fitness    = 0.007438604270352002\n",
      "Generation = 7\n",
      "Fitness    = 0.007438604270352002\n",
      "Generation = 8\n",
      "Fitness    = 0.007438604270352002\n",
      "Generation = 9\n",
      "Fitness    = 0.007438604270352002\n",
      "Generation = 10\n",
      "Fitness    = 0.007438604270352002\n",
      "start 7\n",
      "Generation = 1\n",
      "Fitness    = 0.007438604270352002\n",
      "Generation = 2\n",
      "Fitness    = 0.007438604270352002\n",
      "Generation = 3\n",
      "Fitness    = 0.007438604270352002\n",
      "Generation = 4\n",
      "Fitness    = 0.007438604270352002\n",
      "Generation = 5\n",
      "Fitness    = 0.007438604270352002\n",
      "Generation = 6\n",
      "Fitness    = 0.007438604270352002\n",
      "Generation = 7\n",
      "Fitness    = 0.007438604270352002\n",
      "Generation = 8\n",
      "Fitness    = 0.007438604270352002\n",
      "Generation = 9\n",
      "Fitness    = 0.007438604270352002\n",
      "Generation = 10\n",
      "Fitness    = 0.007438604270352002\n",
      "start 8\n",
      "Generation = 1\n",
      "Fitness    = 0.007438604270352002\n",
      "Generation = 2\n",
      "Fitness    = 0.007438604270352002\n",
      "Generation = 3\n",
      "Fitness    = 0.007438604270352002\n",
      "Generation = 4\n",
      "Fitness    = 0.007438604270352002\n",
      "Generation = 5\n",
      "Fitness    = 0.007438604270352002\n",
      "Generation = 6\n",
      "Fitness    = 0.007438604270352002\n",
      "Generation = 7\n",
      "Fitness    = 0.007438604270352002\n",
      "Generation = 8\n",
      "Fitness    = 0.007438604270352002\n",
      "Generation = 9\n",
      "Fitness    = 0.007438604270352002\n",
      "Generation = 10\n",
      "Fitness    = 0.007438604270352002\n",
      "start 9\n",
      "Generation = 1\n",
      "Fitness    = 0.007438604270352002\n",
      "Generation = 2\n",
      "Fitness    = 0.007438604270352002\n",
      "Generation = 3\n",
      "Fitness    = 0.007438604270352002\n",
      "Generation = 4\n",
      "Fitness    = 0.007438604270352002\n",
      "Generation = 5\n",
      "Fitness    = 0.007438604270352002\n",
      "Generation = 6\n",
      "Fitness    = 0.007438604270352002\n",
      "Generation = 7\n",
      "Fitness    = 0.007438604270352002\n",
      "Generation = 8\n",
      "Fitness    = 0.007438604270352002\n",
      "Generation = 9\n",
      "Fitness    = 0.007438604270352002\n",
      "Generation = 10\n",
      "Fitness    = 0.007438604270352002\n",
      "start 10\n",
      "Generation = 1\n",
      "Fitness    = 0.007438604270352002\n",
      "Generation = 2\n",
      "Fitness    = 0.007438604270352002\n",
      "Generation = 3\n",
      "Fitness    = 0.007438604270352002\n",
      "Generation = 4\n",
      "Fitness    = 0.007438604270352002\n",
      "Generation = 5\n",
      "Fitness    = 0.007438604270352002\n",
      "bad sol: 6\n",
      "Generation = 6\n",
      "Fitness    = 0.007438604270352002\n",
      "Generation = 7\n",
      "Fitness    = 0.007438604270352002\n",
      "Generation = 8\n",
      "Fitness    = 0.007438604270352002\n",
      "Generation = 9\n",
      "Fitness    = 0.007438604270352002\n",
      "Generation = 10\n",
      "Fitness    = 0.007438604270352002\n",
      "start 11\n",
      "Generation = 1\n",
      "Fitness    = 0.007438604270352002\n",
      "Generation = 2\n",
      "Fitness    = 0.007438604270352002\n",
      "Generation = 3\n",
      "Fitness    = 0.007438604270352002\n",
      "Generation = 4\n",
      "Fitness    = 0.007438604270352002\n",
      "Generation = 5\n",
      "Fitness    = 0.007438604270352002\n",
      "Generation = 6\n",
      "Fitness    = 0.007438604270352002\n",
      "bad sol: None\n",
      "bad sol: 21\n",
      "Generation = 7\n"
     ]
    }
   ],
   "source": [
    "for pock in range(100):\n",
    "    torch_ga = torchga.TorchGA(model=model,\n",
    "                           num_solutions=50)\n",
    "    initial_population = torch_ga.population_weights\n",
    "    ga_instance = pygad.GA(num_generations=num_generations, \n",
    "                       num_parents_mating=num_parents_mating, \n",
    "                       initial_population=initial_population,\n",
    "                       fitness_func=fitness_func,\n",
    "                       parent_selection_type=parent_selection_type,\n",
    "                       crossover_type=crossover_type,\n",
    "                       mutation_type=mutation_type,\n",
    "                       mutation_probability=mutation_probability,\n",
    "                       mutation_percent_genes=mutation_percent_genes,\n",
    "                       keep_parents=keep_parents,\n",
    "                       on_generation=callback_generation)\n",
    "    print('start',pock)\n",
    "    ga_instance.run()\n",
    "    #Сохраняем промежуточныйе результаты\n",
    "    solution, solution_fitness, solution_idx = ga_instance.best_solution()\n",
    "    best_solution_weights = torchga.model_weights_as_dict(model=model,\n",
    "                                                      weights_vector=solution)\n",
    "    model.load_state_dict(best_solution_weights)\n",
    "    torch.save(model.state_dict(), r\"C:\\Files\\ProjMan\\models\\{generation}.pt\".format(generation=(pock+1)*10))"
   ]
  },
  {
   "cell_type": "code",
   "execution_count": null,
   "id": "5851a868",
   "metadata": {},
   "outputs": [],
   "source": [
    "#видно, что после 26-го поколения процесс улучшения стопориться, то есть был найден локальный минимум из котрого\n",
    "#программа не может выбраться. Поэтому сейчас ведется работа над алгоритмом предобучения."
   ]
  }
 ],
 "metadata": {
  "kernelspec": {
   "display_name": "Python 3",
   "language": "python",
   "name": "python3"
  },
  "language_info": {
   "codemirror_mode": {
    "name": "ipython",
    "version": 3
   },
   "file_extension": ".py",
   "mimetype": "text/x-python",
   "name": "python",
   "nbconvert_exporter": "python",
   "pygments_lexer": "ipython3",
   "version": "3.6.13"
  }
 },
 "nbformat": 4,
 "nbformat_minor": 5
}
